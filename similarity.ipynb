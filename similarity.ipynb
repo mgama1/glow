{
 "cells": [
  {
   "cell_type": "code",
   "execution_count": 9,
   "id": "44768a66-c361-44a1-977f-24e3cb2bd0a1",
   "metadata": {},
   "outputs": [],
   "source": [
    "from PIL import Image\n",
    "import imagehash\n",
    "import pandas as pd"
   ]
  },
  {
   "cell_type": "code",
   "execution_count": 10,
   "id": "f33c11c6-4eb0-4ed4-8aff-bdaf869249af",
   "metadata": {},
   "outputs": [
    {
     "data": {
      "text/html": [
       "<div>\n",
       "<style scoped>\n",
       "    .dataframe tbody tr th:only-of-type {\n",
       "        vertical-align: middle;\n",
       "    }\n",
       "\n",
       "    .dataframe tbody tr th {\n",
       "        vertical-align: top;\n",
       "    }\n",
       "\n",
       "    .dataframe thead th {\n",
       "        text-align: right;\n",
       "    }\n",
       "</style>\n",
       "<table border=\"1\" class=\"dataframe\">\n",
       "  <thead>\n",
       "    <tr style=\"text-align: right;\">\n",
       "      <th></th>\n",
       "      <th>img_path</th>\n",
       "      <th>price</th>\n",
       "      <th>phash</th>\n",
       "      <th>dhash</th>\n",
       "      <th>whash</th>\n",
       "    </tr>\n",
       "  </thead>\n",
       "  <tbody>\n",
       "    <tr>\n",
       "      <th>0</th>\n",
       "      <td>orig.jpg</td>\n",
       "      <td>1200</td>\n",
       "      <td>11680921215082135716</td>\n",
       "      <td>985711561019871232</td>\n",
       "      <td>14196754610861368295</td>\n",
       "    </tr>\n",
       "    <tr>\n",
       "      <th>1</th>\n",
       "      <td>data/mariam.jpg</td>\n",
       "      <td>1200</td>\n",
       "      <td>17358340366484732364</td>\n",
       "      <td>11278867856430409728</td>\n",
       "      <td>14403606601615376640</td>\n",
       "    </tr>\n",
       "    <tr>\n",
       "      <th>2</th>\n",
       "      <td>data/not_mariam.jpg</td>\n",
       "      <td>1200</td>\n",
       "      <td>16421563055899567798</td>\n",
       "      <td>11209053527442181513</td>\n",
       "      <td>18438831893042495488</td>\n",
       "    </tr>\n",
       "  </tbody>\n",
       "</table>\n",
       "</div>"
      ],
      "text/plain": [
       "              img_path  price                 phash                 dhash  \\\n",
       "0             orig.jpg   1200  11680921215082135716    985711561019871232   \n",
       "1      data/mariam.jpg   1200  17358340366484732364  11278867856430409728   \n",
       "2  data/not_mariam.jpg   1200  16421563055899567798  11209053527442181513   \n",
       "\n",
       "                  whash  \n",
       "0  14196754610861368295  \n",
       "1  14403606601615376640  \n",
       "2  18438831893042495488  "
      ]
     },
     "execution_count": 10,
     "metadata": {},
     "output_type": "execute_result"
    }
   ],
   "source": [
    "pd.read_csv('db.csv')"
   ]
  },
  {
   "cell_type": "code",
   "execution_count": null,
   "id": "6d44dbec-3a66-4a22-bec8-bcd0943d671e",
   "metadata": {},
   "outputs": [],
   "source": []
  },
  {
   "cell_type": "code",
   "execution_count": null,
   "id": "00394b23-672e-47a6-ac1b-e5d537bda78d",
   "metadata": {},
   "outputs": [],
   "source": []
  },
  {
   "cell_type": "code",
   "execution_count": null,
   "id": "940aedd0-8c6e-4d34-89c7-1c08e5f0de41",
   "metadata": {},
   "outputs": [],
   "source": []
  },
  {
   "cell_type": "code",
   "execution_count": 5,
   "id": "d867552d-00ef-4eaf-ba0b-972ad522729c",
   "metadata": {},
   "outputs": [],
   "source": [
    "columns = ['image_path','price', 'phash', 'dhash', 'whash']\n",
    "db = pd.DataFrame(columns=columns)\n"
   ]
  },
  {
   "cell_type": "code",
   "execution_count": null,
   "id": "c8b45c3d-63bf-4c34-8150-8c59f14803df",
   "metadata": {},
   "outputs": [],
   "source": []
  },
  {
   "cell_type": "code",
   "execution_count": null,
   "id": "0d481376-4fe5-405a-b0f9-747b56dab368",
   "metadata": {},
   "outputs": [],
   "source": []
  },
  {
   "cell_type": "code",
   "execution_count": null,
   "id": "47516621-9e5f-4432-be73-741c8b90e309",
   "metadata": {},
   "outputs": [],
   "source": []
  },
  {
   "cell_type": "code",
   "execution_count": null,
   "id": "b1b0dbec-2359-48c6-a009-01b173f6dd3a",
   "metadata": {},
   "outputs": [],
   "source": []
  },
  {
   "cell_type": "code",
   "execution_count": null,
   "id": "e1843f71-ec91-4c60-9525-afd94fd6b9a9",
   "metadata": {},
   "outputs": [],
   "source": []
  },
  {
   "cell_type": "code",
   "execution_count": 16,
   "id": "8e491fd4-30a7-46d5-8a5b-b888f5c6518c",
   "metadata": {},
   "outputs": [],
   "source": [
    "from reverse_search import *"
   ]
  },
  {
   "cell_type": "code",
   "execution_count": 17,
   "id": "e17017a3-0def-471e-a9c0-8258d5f3ef7c",
   "metadata": {},
   "outputs": [],
   "source": [
    "cr=ClothesRepository('data/not_mariam.jpg')"
   ]
  },
  {
   "cell_type": "code",
   "execution_count": 13,
   "id": "1d2eee75-664c-44e6-b635-21c62ca4dbac",
   "metadata": {},
   "outputs": [],
   "source": [
    "cr=ClothesRepository('data/mariam.jpg')"
   ]
  },
  {
   "cell_type": "code",
   "execution_count": 2,
   "id": "2c0c5def-f41f-4229-9fa8-b75a87c86f9f",
   "metadata": {},
   "outputs": [],
   "source": [
    "cr=ClothesRepository('orig.jpg')"
   ]
  },
  {
   "cell_type": "code",
   "execution_count": 18,
   "id": "52b1b4fc-3029-401d-ba49-f3cd93cc0bc0",
   "metadata": {},
   "outputs": [
    {
     "ename": "ValueError",
     "evalue": "Incompatible indexer with Series",
     "output_type": "error",
     "traceback": [
      "\u001b[0;31m---------------------------------------------------------------------------\u001b[0m",
      "\u001b[0;31mValueError\u001b[0m                                Traceback (most recent call last)",
      "Cell \u001b[0;32mIn[18], line 1\u001b[0m\n\u001b[0;32m----> 1\u001b[0m cr\u001b[38;5;241m.\u001b[39minsert_record(\u001b[38;5;241m1850\u001b[39m)\n",
      "File \u001b[0;32m~/Downloads/GLOWBOT/reverse_search.py:56\u001b[0m, in \u001b[0;36mClothesRepository.insert_record\u001b[0;34m(self, price)\u001b[0m\n\u001b[1;32m     54\u001b[0m existing_index \u001b[38;5;241m=\u001b[39m \u001b[38;5;28mself\u001b[39m\u001b[38;5;241m.\u001b[39mdb[\u001b[38;5;28mself\u001b[39m\u001b[38;5;241m.\u001b[39mdb[\u001b[38;5;124m'\u001b[39m\u001b[38;5;124mimg_path\u001b[39m\u001b[38;5;124m'\u001b[39m] \u001b[38;5;241m==\u001b[39m \u001b[38;5;28mself\u001b[39m\u001b[38;5;241m.\u001b[39mimg_path]\u001b[38;5;241m.\u001b[39mindex\n\u001b[1;32m     55\u001b[0m \u001b[38;5;28;01mif\u001b[39;00m \u001b[38;5;129;01mnot\u001b[39;00m existing_index\u001b[38;5;241m.\u001b[39mempty:\n\u001b[0;32m---> 56\u001b[0m     \u001b[38;5;28mself\u001b[39m\u001b[38;5;241m.\u001b[39mdb\u001b[38;5;241m.\u001b[39mloc[existing_index[\u001b[38;5;241m0\u001b[39m]] \u001b[38;5;241m=\u001b[39m pd\u001b[38;5;241m.\u001b[39mDataFrame([new_record])\n\u001b[1;32m     57\u001b[0m \u001b[38;5;28;01melse\u001b[39;00m:\n\u001b[1;32m     58\u001b[0m     \u001b[38;5;28mself\u001b[39m\u001b[38;5;241m.\u001b[39mdb \u001b[38;5;241m=\u001b[39m pd\u001b[38;5;241m.\u001b[39mconcat([\u001b[38;5;28mself\u001b[39m\u001b[38;5;241m.\u001b[39mdb, pd\u001b[38;5;241m.\u001b[39mDataFrame([new_record])], ignore_index\u001b[38;5;241m=\u001b[39m\u001b[38;5;28;01mTrue\u001b[39;00m)\n",
      "File \u001b[0;32m~/anaconda3/lib/python3.11/site-packages/pandas/core/indexing.py:885\u001b[0m, in \u001b[0;36m_LocationIndexer.__setitem__\u001b[0;34m(self, key, value)\u001b[0m\n\u001b[1;32m    882\u001b[0m \u001b[38;5;28mself\u001b[39m\u001b[38;5;241m.\u001b[39m_has_valid_setitem_indexer(key)\n\u001b[1;32m    884\u001b[0m iloc \u001b[38;5;241m=\u001b[39m \u001b[38;5;28mself\u001b[39m \u001b[38;5;28;01mif\u001b[39;00m \u001b[38;5;28mself\u001b[39m\u001b[38;5;241m.\u001b[39mname \u001b[38;5;241m==\u001b[39m \u001b[38;5;124m\"\u001b[39m\u001b[38;5;124miloc\u001b[39m\u001b[38;5;124m\"\u001b[39m \u001b[38;5;28;01melse\u001b[39;00m \u001b[38;5;28mself\u001b[39m\u001b[38;5;241m.\u001b[39mobj\u001b[38;5;241m.\u001b[39miloc\n\u001b[0;32m--> 885\u001b[0m iloc\u001b[38;5;241m.\u001b[39m_setitem_with_indexer(indexer, value, \u001b[38;5;28mself\u001b[39m\u001b[38;5;241m.\u001b[39mname)\n",
      "File \u001b[0;32m~/anaconda3/lib/python3.11/site-packages/pandas/core/indexing.py:1893\u001b[0m, in \u001b[0;36m_iLocIndexer._setitem_with_indexer\u001b[0;34m(self, indexer, value, name)\u001b[0m\n\u001b[1;32m   1890\u001b[0m \u001b[38;5;66;03m# align and set the values\u001b[39;00m\n\u001b[1;32m   1891\u001b[0m \u001b[38;5;28;01mif\u001b[39;00m take_split_path:\n\u001b[1;32m   1892\u001b[0m     \u001b[38;5;66;03m# We have to operate column-wise\u001b[39;00m\n\u001b[0;32m-> 1893\u001b[0m     \u001b[38;5;28mself\u001b[39m\u001b[38;5;241m.\u001b[39m_setitem_with_indexer_split_path(indexer, value, name)\n\u001b[1;32m   1894\u001b[0m \u001b[38;5;28;01melse\u001b[39;00m:\n\u001b[1;32m   1895\u001b[0m     \u001b[38;5;28mself\u001b[39m\u001b[38;5;241m.\u001b[39m_setitem_single_block(indexer, value, name)\n",
      "File \u001b[0;32m~/anaconda3/lib/python3.11/site-packages/pandas/core/indexing.py:1928\u001b[0m, in \u001b[0;36m_iLocIndexer._setitem_with_indexer_split_path\u001b[0;34m(self, indexer, value, name)\u001b[0m\n\u001b[1;32m   1926\u001b[0m \u001b[38;5;28;01mif\u001b[39;00m is_list_like_indexer(value) \u001b[38;5;129;01mand\u001b[39;00m \u001b[38;5;28mgetattr\u001b[39m(value, \u001b[38;5;124m\"\u001b[39m\u001b[38;5;124mndim\u001b[39m\u001b[38;5;124m\"\u001b[39m, \u001b[38;5;241m1\u001b[39m) \u001b[38;5;241m>\u001b[39m \u001b[38;5;241m0\u001b[39m:\n\u001b[1;32m   1927\u001b[0m     \u001b[38;5;28;01mif\u001b[39;00m \u001b[38;5;28misinstance\u001b[39m(value, ABCDataFrame):\n\u001b[0;32m-> 1928\u001b[0m         \u001b[38;5;28mself\u001b[39m\u001b[38;5;241m.\u001b[39m_setitem_with_indexer_frame_value(indexer, value, name)\n\u001b[1;32m   1930\u001b[0m     \u001b[38;5;28;01melif\u001b[39;00m np\u001b[38;5;241m.\u001b[39mndim(value) \u001b[38;5;241m==\u001b[39m \u001b[38;5;241m2\u001b[39m:\n\u001b[1;32m   1931\u001b[0m         \u001b[38;5;66;03m# TODO: avoid np.ndim call in case it isn't an ndarray, since\u001b[39;00m\n\u001b[1;32m   1932\u001b[0m         \u001b[38;5;66;03m#  that will construct an ndarray, which will be wasteful\u001b[39;00m\n\u001b[1;32m   1933\u001b[0m         \u001b[38;5;28mself\u001b[39m\u001b[38;5;241m.\u001b[39m_setitem_with_indexer_2d_value(indexer, value)\n",
      "File \u001b[0;32m~/anaconda3/lib/python3.11/site-packages/pandas/core/indexing.py:2051\u001b[0m, in \u001b[0;36m_iLocIndexer._setitem_with_indexer_frame_value\u001b[0;34m(self, indexer, value, name)\u001b[0m\n\u001b[1;32m   2049\u001b[0m \u001b[38;5;28;01mif\u001b[39;00m item \u001b[38;5;129;01min\u001b[39;00m value:\n\u001b[1;32m   2050\u001b[0m     sub_indexer[\u001b[38;5;241m1\u001b[39m] \u001b[38;5;241m=\u001b[39m item\n\u001b[0;32m-> 2051\u001b[0m     val \u001b[38;5;241m=\u001b[39m \u001b[38;5;28mself\u001b[39m\u001b[38;5;241m.\u001b[39m_align_series(\n\u001b[1;32m   2052\u001b[0m         \u001b[38;5;28mtuple\u001b[39m(sub_indexer),\n\u001b[1;32m   2053\u001b[0m         value[item],\n\u001b[1;32m   2054\u001b[0m         multiindex_indexer,\n\u001b[1;32m   2055\u001b[0m         using_cow\u001b[38;5;241m=\u001b[39musing_copy_on_write(),\n\u001b[1;32m   2056\u001b[0m     )\n\u001b[1;32m   2057\u001b[0m \u001b[38;5;28;01melse\u001b[39;00m:\n\u001b[1;32m   2058\u001b[0m     val \u001b[38;5;241m=\u001b[39m np\u001b[38;5;241m.\u001b[39mnan\n",
      "File \u001b[0;32m~/anaconda3/lib/python3.11/site-packages/pandas/core/indexing.py:2368\u001b[0m, in \u001b[0;36m_iLocIndexer._align_series\u001b[0;34m(self, indexer, ser, multiindex_indexer, using_cow)\u001b[0m\n\u001b[1;32m   2364\u001b[0m         \u001b[38;5;28;01mreturn\u001b[39;00m ser\u001b[38;5;241m.\u001b[39m_values\u001b[38;5;241m.\u001b[39mcopy()\n\u001b[1;32m   2366\u001b[0m     \u001b[38;5;28;01mreturn\u001b[39;00m ser\u001b[38;5;241m.\u001b[39mreindex(ax)\u001b[38;5;241m.\u001b[39m_values\n\u001b[0;32m-> 2368\u001b[0m \u001b[38;5;28;01mraise\u001b[39;00m \u001b[38;5;167;01mValueError\u001b[39;00m(\u001b[38;5;124m\"\u001b[39m\u001b[38;5;124mIncompatible indexer with Series\u001b[39m\u001b[38;5;124m\"\u001b[39m)\n",
      "\u001b[0;31mValueError\u001b[0m: Incompatible indexer with Series"
     ]
    }
   ],
   "source": [
    "cr.insert_record(1850)"
   ]
  },
  {
   "cell_type": "code",
   "execution_count": null,
   "id": "dbcada0a-c435-4625-961b-fbc2ad9d3504",
   "metadata": {},
   "outputs": [],
   "source": [
    "pd.read_csv('db.csv')"
   ]
  },
  {
   "cell_type": "code",
   "execution_count": null,
   "id": "ecd49094-a826-4917-82a0-c53ba156e162",
   "metadata": {},
   "outputs": [],
   "source": []
  },
  {
   "cell_type": "code",
   "execution_count": null,
   "id": "bac2f48b-a762-4970-a20c-545c69b2868f",
   "metadata": {},
   "outputs": [],
   "source": []
  },
  {
   "cell_type": "code",
   "execution_count": 6,
   "id": "4d45b249-79b5-4d07-b16a-e1f47366a6fa",
   "metadata": {},
   "outputs": [
    {
     "data": {
      "text/plain": [
       "img_path           data/mariam.jpg\n",
       "price                       [1200]\n",
       "phash         17358340366484732364\n",
       "dhash         11278867856430409728\n",
       "whash         14403606601615376640\n",
       "phash_dist                       2\n",
       "dhash_dist                       9\n",
       "whash_dist                       0\n",
       "total_dist                3.666667\n",
       "Name: 1, dtype: object"
      ]
     },
     "execution_count": 6,
     "metadata": {},
     "output_type": "execute_result"
    }
   ],
   "source": [
    "rs=ReverseImageSearch('saved_mariam.jpg','db.csv')\n",
    "rs.get_closest_match()"
   ]
  },
  {
   "cell_type": "code",
   "execution_count": null,
   "id": "ead64f64-c769-4d1b-9d12-39cbb150d535",
   "metadata": {},
   "outputs": [],
   "source": []
  },
  {
   "cell_type": "code",
   "execution_count": null,
   "id": "247e4350-f68c-48a4-b510-ff27ab21fc0d",
   "metadata": {},
   "outputs": [],
   "source": []
  },
  {
   "cell_type": "code",
   "execution_count": null,
   "id": "9c7a74e9-a466-4058-aa85-4e533dc20038",
   "metadata": {},
   "outputs": [],
   "source": []
  }
 ],
 "metadata": {
  "kernelspec": {
   "display_name": "Python 3 (ipykernel)",
   "language": "python",
   "name": "python3"
  },
  "language_info": {
   "codemirror_mode": {
    "name": "ipython",
    "version": 3
   },
   "file_extension": ".py",
   "mimetype": "text/x-python",
   "name": "python",
   "nbconvert_exporter": "python",
   "pygments_lexer": "ipython3",
   "version": "3.11.7"
  }
 },
 "nbformat": 4,
 "nbformat_minor": 5
}
